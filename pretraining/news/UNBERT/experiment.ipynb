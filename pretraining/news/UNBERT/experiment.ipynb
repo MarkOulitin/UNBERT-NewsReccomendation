{
 "cells": [
  {
   "cell_type": "code",
   "execution_count": 7,
   "metadata": {},
   "outputs": [],
   "source": [
    "from src.data_loader import MindDataset\n",
    "from transformers import AutoTokenizer\n",
    "import pandas as pd"
   ]
  },
  {
   "cell_type": "code",
   "execution_count": 3,
   "metadata": {},
   "outputs": [
    {
     "data": {
      "application/vnd.jupyter.widget-view+json": {
       "model_id": "eea784e4382c4e1fba6b43fc95e1f7ed",
       "version_major": 2,
       "version_minor": 0
      },
      "text/plain": [
       "Downloading tokenizer_config.json:   0%|          | 0.00/28.0 [00:00<?, ?B/s]"
      ]
     },
     "metadata": {},
     "output_type": "display_data"
    },
    {
     "name": "stderr",
     "output_type": "stream",
     "text": [
      "c:\\Users\\Mark\\anaconda3\\envs\\research\\Lib\\site-packages\\huggingface_hub\\file_download.py:133: UserWarning: `huggingface_hub` cache-system uses symlinks by default to efficiently store duplicated files but your machine does not support them in C:\\Users\\Mark\\.cache\\huggingface\\hub. Caching files will still work but in a degraded version that might require more space on your disk. This warning can be disabled by setting the `HF_HUB_DISABLE_SYMLINKS_WARNING` environment variable. For more details, see https://huggingface.co/docs/huggingface_hub/how-to-cache#limitations.\n",
      "To support symlinks on Windows, you either need to activate Developer Mode or to run Python as an administrator. In order to see activate developer mode, see this article: https://docs.microsoft.com/en-us/windows/apps/get-started/enable-your-device-for-development\n",
      "  warnings.warn(message)\n"
     ]
    },
    {
     "data": {
      "application/vnd.jupyter.widget-view+json": {
       "model_id": "28b0f26a663d4cd1a24a430cef388541",
       "version_major": 2,
       "version_minor": 0
      },
      "text/plain": [
       "Downloading config.json:   0%|          | 0.00/570 [00:00<?, ?B/s]"
      ]
     },
     "metadata": {},
     "output_type": "display_data"
    },
    {
     "data": {
      "application/vnd.jupyter.widget-view+json": {
       "model_id": "a9790d64c15442b58fb79df1ef14c63c",
       "version_major": 2,
       "version_minor": 0
      },
      "text/plain": [
       "Downloading vocab.txt:   0%|          | 0.00/232k [00:00<?, ?B/s]"
      ]
     },
     "metadata": {},
     "output_type": "display_data"
    },
    {
     "data": {
      "application/vnd.jupyter.widget-view+json": {
       "model_id": "62c5e625d66a4dc1967c0b86843e8610",
       "version_major": 2,
       "version_minor": 0
      },
      "text/plain": [
       "Downloading tokenizer.json:   0%|          | 0.00/466k [00:00<?, ?B/s]"
      ]
     },
     "metadata": {},
     "output_type": "display_data"
    }
   ],
   "source": [
    "tokenizer = AutoTokenizer.from_pretrained('bert-base-uncased')"
   ]
  },
  {
   "cell_type": "code",
   "execution_count": 4,
   "metadata": {},
   "outputs": [
    {
     "name": "stdout",
     "output_type": "stream",
     "text": [
      "Saving news info from data\\small\\news_dict.pkl\n"
     ]
    }
   ],
   "source": [
    "train_set = MindDataset(\n",
    "    root='data',\n",
    "    tokenizer=tokenizer,\n",
    "    mode='train',\n",
    "    split='small',\n",
    "    news_max_len=20,\n",
    "    hist_max_len=20,\n",
    "    seq_max_len=300\n",
    ")"
   ]
  },
  {
   "cell_type": "code",
   "execution_count": 8,
   "metadata": {},
   "outputs": [],
   "source": [
    "df = pd.read_csv('./data/large/train/news.tsv', sep='\\t', header=None, \n",
    "                    names=['news_id', 'category', 'sub-category', 'title', 'abstract', 'url', 'title entities', 'abstract entities'])"
   ]
  },
  {
   "cell_type": "code",
   "execution_count": 9,
   "metadata": {},
   "outputs": [],
   "source": [
    "df_dev = pd.read_csv('./data/large/dev/news.tsv', sep='\\t', header=None, \n",
    "                    names=['news_id', 'category', 'sub-category', 'title', 'abstract', 'url', 'title entities', 'abstract entities'])\n",
    "df_test = pd.read_csv('./data/large/test/news.tsv', sep='\\t', header=None, \n",
    "                    names=['news_id', 'category', 'sub-category', 'title', 'abstract', 'url', 'title entities', 'abstract entities'])"
   ]
  },
  {
   "cell_type": "code",
   "execution_count": 10,
   "metadata": {},
   "outputs": [],
   "source": [
    "df_all = pd.concat([df, df_dev, df_test])"
   ]
  },
  {
   "cell_type": "code",
   "execution_count": 12,
   "metadata": {},
   "outputs": [],
   "source": [
    "categories = df_all['category'].unique()"
   ]
  },
  {
   "cell_type": "code",
   "execution_count": 13,
   "metadata": {},
   "outputs": [
    {
     "data": {
      "text/plain": [
       "array(['lifestyle', 'news', 'health', 'sports', 'weather',\n",
       "       'entertainment', 'foodanddrink', 'autos', 'travel', 'video',\n",
       "       'finance', 'tv', 'movies', 'music', 'kids', 'middleeast', 'games',\n",
       "       'northamerica'], dtype=object)"
      ]
     },
     "execution_count": 13,
     "metadata": {},
     "output_type": "execute_result"
    }
   ],
   "source": [
    "categories"
   ]
  },
  {
   "cell_type": "code",
   "execution_count": 15,
   "metadata": {},
   "outputs": [],
   "source": [
    "sub_categories = df_all['sub-category'].unique()"
   ]
  },
  {
   "cell_type": "code",
   "execution_count": 16,
   "metadata": {},
   "outputs": [
    {
     "data": {
      "text/plain": [
       "array(['lifestyleroyals', 'newsscienceandtechnology', 'weightloss',\n",
       "       'medical', 'newsworld', 'voices', 'cardio', 'football_nfl',\n",
       "       'weathertopstories', 'gaming', 'recipes', 'lifestylelovesex',\n",
       "       'nutrition', 'autosenthusiasts', 'autossports', 'wellness',\n",
       "       'health-news', 'celebrity', 'travelarticle', 'autossuvs',\n",
       "       'newspolitics', 'more_sports', 'traveltripideas', 'animals',\n",
       "       'autosnews', 'newsbusiness', 'golf', 'newstrends',\n",
       "       'lifestylepetsanimals', 'finance-insurance', 'football_ncaa',\n",
       "       'lifestylebuzz', 'mma', 'fitness', 'newsus', 'tv-gallery',\n",
       "       'tvnews', 'lifestylehoroscope', 'basketball_nba', 'news',\n",
       "       'shop-all', 'newsphotos', 'lifestylemindandsoul', 'travelnews',\n",
       "       'basketball_ncaa', 'finance-real-estate', 'quickandeasy',\n",
       "       'tv-celebrity', 'financenews', 'lifestyleparenting',\n",
       "       'movies-gallery', 'racing', 'tipsandtricks', 'baseball_mlb',\n",
       "       'musicnews', 'autosbuying', 'shop-apparel', 'autostrucks',\n",
       "       'lifestyledidyouknow', 'finance-career-education',\n",
       "       'finance-retirement', 'restaurantsandnews',\n",
       "       'finance-saving-investing', 'soccer', 'viral', 'finance-taxes',\n",
       "       'foodnews', 'lifestyleshopping', 'lifestylebeauty', 'newsopinion',\n",
       "       'finance-companies', 'newscrime', 'finance-savemoney',\n",
       "       'mentalhealth', 'lifestylesmartliving', 'autosclassics',\n",
       "       'traveltips', 'shop-toys', 'autosluxury', 'finance-career',\n",
       "       'entertainment-books', 'newsgoodnews', 'retirement',\n",
       "       'lifestyleweddings', 'lifestylehomeandgarden', 'ads-lung-health',\n",
       "       'personalfinance', 'finance-top-stocks', 'soccer_epl',\n",
       "       'lifestyledecor', 'causes', 'autoshybrids', 'newsoffbeat',\n",
       "       'lifestylefashion', 'tennis', 'videos', 'lifestylepets',\n",
       "       'weight-loss', 'lifestylecareer', 'markets', 'shop-holidays',\n",
       "       'icehockey_nhl', 'finance-credit', 'movievideo',\n",
       "       'football_nfl_videos', 'movies-celebrity', 'finance-billstopay',\n",
       "       'lifestylecleaningandorganizing', 'lifestylecelebstyle',\n",
       "       'newsweather', 'popculture', 'beverages', 'basketball_wnba',\n",
       "       'lifestylefamilyandrelationships', 'music-gallery',\n",
       "       'entertainment-celebrity', 'advice', 'musicvideos', 'strength',\n",
       "       'autosmotorcycles', 'healthagingwell', 'video', 'outdoors',\n",
       "       'wines', 'healthnews', 'causes-green-living',\n",
       "       'autosresearchguides', 'factcheck', 'lifestyle-news-feature',\n",
       "       'music-celebrity', 'lifestyle', 'baseball_mlb_videos',\n",
       "       'lifestylediy', 'science', 'movienews', 'travel-videos',\n",
       "       'football_ncaa_videos', 'lifestylefamily', 'autosownership',\n",
       "       'lifestylehoroscopefish', 'shop-home-goods', 'downtime',\n",
       "       'newsfactcheck', 'travel-points-rewards', 'humor',\n",
       "       'finance-small-business', 'autospassenger', 'autossema', 'fun',\n",
       "       'boxing', 'peopleandplaces', 'finance-video', 'soccer_mls',\n",
       "       'lifestylerelationships', 'foodrecipes', 'lifestylevideo',\n",
       "       'holidays', 'finance-healthcare', 'music-awards', 'seasonal',\n",
       "       'hollywood', 'tunedin', 'tv-recaps', 'boxing-mma', 'tvvideos',\n",
       "       'autosreview', 'empowering-the-planet', 'causes-animals',\n",
       "       'lifestyletravel', 'finance-technology', 'lifestylemarriage',\n",
       "       'finance-home-loans', 'autosvideonew', 'soccer_videos',\n",
       "       'finance-mutual-funds', 'games', 'relationships',\n",
       "       'causes-food-insecurity', 'autoscartech', 'movies-oscars',\n",
       "       'travel-adventure-travel', 'watch', 'technologyinvesting',\n",
       "       'shop-computers-electronics', 'celebritynews', 'autostokyo',\n",
       "       'elections-2020-us', 'pregnancyparenting', 'causes-poverty',\n",
       "       'music-grammys', 'lifestyleanimals', 'lifestyle-wedding',\n",
       "       'music-reviews', 'finance-savingsrates', 'autosresearch', 'sports',\n",
       "       'career-news', 'newsscience', 'reviews', 'basketball_ncaa_videos',\n",
       "       'autosconvertibles', 'autoscompact', 'travel-accessible',\n",
       "       'finance-education', 'ads-latingrammys', 'finance-insidetheticker',\n",
       "       'olympics-videos', 'awards', 'golfvideos', 'autosvans',\n",
       "       'people-places', 'autosvideos', 'smartliving', 'newslocalpolitics',\n",
       "       'sports_news', 'familyhealth', 'middleeast-top-stories',\n",
       "       'causes-environment', 'cocktails', 'newstvmedia',\n",
       "       'healthandfitness', 'newstechnology', 'photos', 'other',\n",
       "       'mindandbody', 'cookingschool', 'basketball_nba_videos', 'mmaufc',\n",
       "       'tv-reviews', 'narendramodi_opinion',\n",
       "       'finance-homesandpropertysection', 'tv', 'cooking', 'games-news',\n",
       "       'newsnational', 'halloween', 'movies-awards', 'awardstyle',\n",
       "       'company-news', 'newsworldpolitics', 'othersports',\n",
       "       'yearinoffbeatgoodnews', 'newsrealestate',\n",
       "       'lifestyleshoppinghomegarden', 'wonder', 'cma-awards',\n",
       "       'technology', 'newsvideo', 'comedy', 'travel', 'baseball',\n",
       "       'topnews', 'newsother', 'foodtips', 'tv-golden-globes',\n",
       "       'causes-disaster-relief', 'finance-auto-insurance',\n",
       "       'weatherfullscreenmaps', 'causes-military-appreciation',\n",
       "       'newsvideos', 'indepth', 'healthyliving', 'lifestylewhatshot',\n",
       "       'lifestylestyle', 'shop-books-movies-tv', 'health-cancer',\n",
       "       'lifestyledesign', 'newselection2020', 'finance-startinvesting',\n",
       "       'spendingandborrowing', 'ustravel', 'basketball',\n",
       "       'internationaltravel', 'traveltrivia', 'soccer_bund',\n",
       "       'tv-golden-globes-video', 'foodanddrink', 'tennis_intl',\n",
       "       'entertainmentmusic', 'northamerica-video', 'autosmidsize',\n",
       "       'soccer_fifa_wwc', 'entertainmenttv', 'autoslosangeles',\n",
       "       'celebhub', 'causes-gender-equality', 'style', 'opinion-polls',\n",
       "       'seasonalvideos', 'grammys-video', 'healthtrending', 'localnews',\n",
       "       'foodvideos'], dtype=object)"
      ]
     },
     "execution_count": 16,
     "metadata": {},
     "output_type": "execute_result"
    }
   ],
   "source": [
    "sub_categories"
   ]
  }
 ],
 "metadata": {
  "kernelspec": {
   "display_name": "research",
   "language": "python",
   "name": "python3"
  },
  "language_info": {
   "codemirror_mode": {
    "name": "ipython",
    "version": 3
   },
   "file_extension": ".py",
   "mimetype": "text/x-python",
   "name": "python",
   "nbconvert_exporter": "python",
   "pygments_lexer": "ipython3",
   "version": "3.11.4"
  }
 },
 "nbformat": 4,
 "nbformat_minor": 2
}
